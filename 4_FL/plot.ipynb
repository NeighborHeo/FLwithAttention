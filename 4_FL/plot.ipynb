{
 "cells": [
  {
   "cell_type": "code",
   "execution_count": null,
   "metadata": {},
   "outputs": [],
   "source": [
    "# In[ ]:\n",
    "# ** import package **\n",
    "import os\n",
    "import sys\n",
    "import json\n",
    "import pathlib\n",
    "sys.path.append(\"..\")\n",
    "\n",
    "import numpy as np\n",
    "import pandas as pd\n",
    "import matplotlib.pyplot as plt\n",
    "import traceback\n",
    "from tqdm import tqdm\n",
    "from datetime import timedelta\n",
    "from _utils.customlogger import customlogger as CL\n",
    "\n",
    "pd.set_option('display.max_colwidth', -1)  #각 컬럼 width 최대로 \n",
    "pd.set_option('display.max_rows', 50)      # display 50개 까지 \n"
   ]
  },
  {
   "cell_type": "code",
   "execution_count": null,
   "metadata": {},
   "outputs": [],
   "source": [
    "# In[ ]:\n",
    "# ** loading path info **\n",
    "current_dir = pathlib.Path.cwd()\n",
    "parent_dir = current_dir.parent\n",
    "curr_file_name = os.path.splitext(os.path.basename(os.path.abspath('')))[0]\n",
    "# result_dir = parent_dir.joinpath('result', 'eicu')\n",
    "result_dir = parent_dir.joinpath('result', '_backup','2022_08_23-09_18_26_AM', 'eicu')\n",
    "pathlib.Path.mkdir(result_dir, mode=0o777, parents=True, exist_ok=True)\n",
    "\n",
    "# edges_name = ['edge_0', 'edge_1', 'edge_2', 'edge_3', 'edge_4', 'edge_5', 'global']\n",
    "# central_name = ['central']\n",
    "edges_name = ['edge_0', 'edge_1', 'edge_2', 'edge_3', 'edge_4', 'edge_5']\n",
    "central_name = []"
   ]
  },
  {
   "cell_type": "code",
   "execution_count": null,
   "metadata": {},
   "outputs": [],
   "source": [
    "feature_importance_dict = {}\n",
    "model_performance_dict = {}\n",
    "for edge_name in (central_name + edges_name):\n",
    "    feature_importance_dict[edge_name] = pd.read_feather(result_dir.joinpath(edge_name, 'feature_importance.feather')).transpose()\n",
    "    model_performance_dict[edge_name] = pd.read_feather(result_dir.joinpath(edge_name, 'model_performance.feather')).transpose()"
   ]
  },
  {
   "cell_type": "code",
   "execution_count": null,
   "metadata": {},
   "outputs": [],
   "source": [
    "# annotate each cell with the numeric value of integer format\n",
    "# heatmap by seaborn\n",
    "import numpy as np\n",
    "import pandas as pd\n",
    "import matplotlib.pyplot as plt\n",
    "import seaborn as sns"
   ]
  },
  {
   "cell_type": "code",
   "execution_count": null,
   "metadata": {},
   "outputs": [],
   "source": [
    "def convertRank(df):\n",
    "    df = df.copy()\n",
    "    for col in df.columns:\n",
    "        df[col] = df[col].rank(ascending=False)\n",
    "    return df.astype('int32')"
   ]
  },
  {
   "cell_type": "code",
   "execution_count": null,
   "metadata": {},
   "outputs": [],
   "source": [
    "feature_importance_dict['edge_0']"
   ]
  },
  {
   "cell_type": "code",
   "execution_count": null,
   "metadata": {},
   "outputs": [],
   "source": [
    "for edge_name in edges_name:\n",
    "\n",
    "    plt.rcParams['figure.figsize'] = [15, 7]\n",
    "    fig=plt.figure()\n",
    "    sns.heatmap(feature_importance_dict[edge_name], annot=True, fmt='.2f')\n",
    "    plt.title('feature importance per round ({})'.format(edge_name), fontsize=20)\n",
    "    plt.savefig('{}/feature_importance_{}.png'.format(result_dir, edge_name), format='png',\n",
    "            dpi=300, facecolor='white', transparent=True,  bbox_inches='tight')\n",
    "    plt.show()\n",
    "    \n",
    "    plt.rcParams['figure.figsize'] = [15, 7]\n",
    "    fig=plt.figure()\n",
    "    sns.heatmap(convertRank(feature_importance_dict[edge_name]), annot=True, fmt='d')\n",
    "    plt.title('feature importance per round ({})_rank'.format(edge_name), fontsize=20)\n",
    "    plt.savefig('{}/feature_importance_{}_rank.png'.format(result_dir, edge_name), format='png',\n",
    "            dpi=300, facecolor='white', transparent=True,  bbox_inches='tight')\n",
    "    plt.show()\n",
    "    \n"
   ]
  },
  {
   "cell_type": "code",
   "execution_count": null,
   "metadata": {},
   "outputs": [],
   "source": [
    "central_df = feature_importance_dict['central']\n",
    "feature_importance_dict['central'] = pd.DataFrame(central_df[central_df.columns[-1]])\n",
    "feature_importance_dict['central']  = feature_importance_dict['central'].rename({1:0}, axis=1)\n"
   ]
  },
  {
   "cell_type": "code",
   "execution_count": null,
   "metadata": {},
   "outputs": [],
   "source": [
    "plt.rcParams['figure.figsize'] = [2, 10]\n",
    "fig=plt.figure()\n",
    "sns.heatmap(feature_importance_dict['central'], annot=True, fmt='.3f')\n",
    "plt.title('feature importance ({})'.format('central'), fontsize=13)\n",
    "plt.savefig('{}/feature_importance_{}.png'.format(result_dir, 'central'), format='png',\n",
    "        dpi=300, facecolor='white', transparent=True,  bbox_inches='tight')\n",
    "plt.show()\n",
    "\n",
    "plt.rcParams['figure.figsize'] = [2, 10]\n",
    "fig=plt.figure()\n",
    "sns.heatmap(convertRank(feature_importance_dict['central']), annot=True, fmt='d')\n",
    "plt.title('feature importance ({})_rank'.format('central'), fontsize=13)\n",
    "plt.savefig('{}/feature_importance_{}_rank.png'.format(result_dir, 'central'), format='png',\n",
    "        dpi=300, facecolor='white', transparent=True,  bbox_inches='tight')\n",
    "plt.show()\n"
   ]
  },
  {
   "cell_type": "code",
   "execution_count": null,
   "metadata": {},
   "outputs": [],
   "source": [
    "model_performance_dict['edge_0'].transpose().loc[:,['accuracy', 'roc_auc', 'f1score']]"
   ]
  },
  {
   "cell_type": "code",
   "execution_count": null,
   "metadata": {},
   "outputs": [],
   "source": [
    "df= model_performance_dict[edge_name].transpose()\n",
    "df"
   ]
  },
  {
   "cell_type": "code",
   "execution_count": null,
   "metadata": {},
   "outputs": [],
   "source": [
    "\n",
    "df = model_performance_dict[edge_name].transpose()\n",
    "# df['tpr'] = df(['TP']/(['TP']+['FN']))\n",
    "# df['fpr'] = df(['FP']/(['FP']+['TN']))\n",
    "df['tpr'] = df.apply(lambda x : x[\"TP\"]/(x[\"TP\"]+x[\"FN\"]), axis=1)\n",
    "df['fpr'] = df.apply(lambda x : x[\"FP\"]/(x[\"FP\"]+x[\"TN\"]), axis=1)\n",
    "df\n"
   ]
  },
  {
   "cell_type": "code",
   "execution_count": null,
   "metadata": {},
   "outputs": [],
   "source": [
    "group_names = ['TP', 'FN', 'FP', 'TN']\n",
    "group_counts = [240, 153, 1081, 4897]\n",
    "labels = ['{}\\n{}'.format(v1, v2, v3) for v1, v2, v3 in zip(group_names,group_counts)]\n",
    "labels = np.asarray(labels).reshape(2,2)\n",
    "cm_figure = sns.heatmap(cf_norm, annot=labels, fmt='', xticklabels=['1','0'], yticklabels=['1','0'], cmap='Blues')\n",
    "cm_figure.set_title('Confusion matrix')\n",
    "cm_figure.set_xlabel('Predicted label')\n",
    "cm_figure.set_ylabel('True label')\n",
    "plt.setp(cm_figure.get_yticklabels(), rotation=0)\n",
    "plt.savefig('{}/{}_CM2.png'.format(output_domain_path,outcome_name), format='png',\n",
    "            dpi=300, facecolor='white', transparent=True,  bbox_inches='tight')"
   ]
  },
  {
   "cell_type": "code",
   "execution_count": null,
   "metadata": {},
   "outputs": [],
   "source": [
    "for edge_name in edges_name:\n",
    "    plt.rcParams['figure.figsize'] = [10, 6]\n",
    "    fig=plt.figure()\n",
    "    df = model_performance_dict[edge_name].transpose()\n",
    "    df['tpr'] = df.apply(lambda x : x[\"TP\"]/(x[\"TP\"]+x[\"FN\"]), axis=1)\n",
    "    df['fpr'] = df.apply(lambda x : x[\"FP\"]/(x[\"FP\"]+x[\"TN\"]), axis=1)\n",
    "    df.loc[:,['accuracy', 'roc_auc', 'f1score', 'tpr', 'fpr']].plot()\n",
    "    plt.title('performance per round ({})'.format(edge_name), fontsize=13)\n",
    "    plt.savefig('{}/performance_{}.png'.format(result_dir, edge_name), format='png',\n",
    "            dpi=300, facecolor='white', transparent=True,  bbox_inches='tight')\n",
    "    plt.ylim([0, 1])\n",
    "    plt.show()\n",
    "    #.pivot(columns='index', index='')"
   ]
  },
  {
   "cell_type": "code",
   "execution_count": null,
   "metadata": {},
   "outputs": [],
   "source": [
    "\n",
    "model_performance_dict['edge_0'].drop(['f1', 'f2', 'f3', 'f4'], axis=0)\n",
    "\n",
    "model_performance_dict['edge_0'].loc[['accuracy', 'f1score', 'roc_auc']].pivot(index=index)\n"
   ]
  },
  {
   "cell_type": "code",
   "execution_count": null,
   "metadata": {},
   "outputs": [],
   "source": [
    "for edge_name in edges_name:\n",
    "\n",
    "    plt.rcParams['figure.figsize'] = [15, 7]\n",
    "    fig=plt.figure()\n",
    "    sns.heatmap(feature_importance_dict[edge_name], annot=True, fmt='.2f')\n",
    "    plt.title('feature importance per round ({})'.format(edge_name), fontsize=20)\n",
    "    plt.savefig('{}/feature_importance_{}.png'.format(result_dir, edge_name), format='png',\n",
    "            dpi=300, facecolor='white', transparent=True,  bbox_inches='tight')\n",
    "    plt.show()\n",
    "    \n",
    "    plt.rcParams['figure.figsize'] = [15, 7]\n",
    "    fig=plt.figure()\n",
    "    sns.heatmap(convertRank(feature_importance_dict[edge_name]), annot=True, fmt='d')\n",
    "    plt.title('feature importance per round ({})_rank'.format(edge_name), fontsize=20)\n",
    "    plt.savefig('{}/feature_importance_{}_rank.png'.format(result_dir, edge_name), format='png',\n",
    "            dpi=300, facecolor='white', transparent=True,  bbox_inches='tight')\n",
    "    plt.show()\n",
    "    \n",
    "\n",
    "\n",
    "feature_importance_dict = {}\n",
    "model_performance_dict = {}\n",
    "for edge_name in (central_name + edges_name):\n",
    "    feature_importance_dict[edge_name] = pd.read_feather(result_dir.joinpath(edge_name, 'feature_importance.feather')).transpose()\n",
    "    model_performance_dict[edge_name] = pd.read_feather(result_dir.joinpath(edge_name, 'model_performance.feather')).transpose()"
   ]
  },
  {
   "cell_type": "code",
   "execution_count": null,
   "metadata": {},
   "outputs": [],
   "source": [
    "model_performance_dict"
   ]
  }
 ],
 "metadata": {
  "kernelspec": {
   "display_name": "Python 3.7.13 ('.venv': venv)",
   "language": "python",
   "name": "python3"
  },
  "language_info": {
   "codemirror_mode": {
    "name": "ipython",
    "version": 3
   },
   "file_extension": ".py",
   "mimetype": "text/x-python",
   "name": "python",
   "nbconvert_exporter": "python",
   "pygments_lexer": "ipython3",
   "version": "3.7.13"
  },
  "orig_nbformat": 4,
  "vscode": {
   "interpreter": {
    "hash": "337931fc7d6bb9b763b2fb479d60ecd1f038a441c6a2b8bddc89fff079691cc0"
   }
  }
 },
 "nbformat": 4,
 "nbformat_minor": 2
}
