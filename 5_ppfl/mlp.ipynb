{
 "cells": [
  {
   "cell_type": "code",
   "execution_count": null,
   "metadata": {},
   "outputs": [],
   "source": [
    "import argparse\n",
    "import json\n",
    "import os\n",
    "import threading\n",
    "import time\n",
    "from random import random\n",
    "import numpy as np\n",
    "import requests\n",
    "from sklearn import metrics\n",
    "from sklearn.metrics import confusion_matrix, accuracy_score, f1_score\n",
    "import numpy_encoder\n",
    "import yaml\n",
    "from sklearn.model_selection import train_test_split\n",
    "import pandas as pd\n",
    "import sys\n",
    "import pickle"
   ]
  },
  {
   "cell_type": "code",
   "execution_count": null,
   "id": "45d86e5c",
   "metadata": {
    "_cell_guid": "b1076dfc-b9ad-4769-8c92-a6c4dae69d19",
    "_kg_hide-input": true,
    "_kg_hide-output": true,
    "_uuid": "8f2839f25d086af736a60e9eeb907d3b93b6e0e5",
    "execution": {
     "iopub.execute_input": "2022-01-25T05:55:41.219932Z",
     "iopub.status.busy": "2022-01-25T05:55:41.219210Z",
     "iopub.status.idle": "2022-01-25T05:55:41.227032Z",
     "shell.execute_reply": "2022-01-25T05:55:41.225933Z",
     "shell.execute_reply.started": "2022-01-25T05:36:24.926654Z"
    },
    "papermill": {
     "duration": 0.147786,
     "end_time": "2022-01-25T05:55:41.227285",
     "exception": false,
     "start_time": "2022-01-25T05:55:41.079499",
     "status": "completed"
    },
    "tags": []
   },
   "outputs": [],
   "source": [
    "import numpy as np # linear algebra\n",
    "import pandas as pd # data processing, CSV file I/O (e.g. pd.read_csv)\n",
    "import os\n",
    "\n",
    "# setup\n",
    "import pycaret\n",
    "import missingno"
   ]
  },
  {
   "cell_type": "code",
   "execution_count": null,
   "id": "f40fe694",
   "metadata": {
    "execution": {
     "iopub.execute_input": "2022-01-25T05:56:27.613973Z",
     "iopub.status.busy": "2022-01-25T05:56:27.613233Z",
     "iopub.status.idle": "2022-01-25T05:56:59.973494Z",
     "shell.execute_reply": "2022-01-25T05:56:59.974665Z",
     "shell.execute_reply.started": "2022-01-25T05:37:06.441188Z"
    },
    "papermill": {
     "duration": 32.573773,
     "end_time": "2022-01-25T05:56:59.974930",
     "exception": false,
     "start_time": "2022-01-25T05:56:27.401157",
     "status": "completed"
    },
    "tags": []
   },
   "outputs": [],
   "source": [
    "import numpy as np\n",
    "import pandas as pd\n",
    "import matplotlib.pyplot as plt\n",
    "from matplotlib import rcParams\n",
    "import seaborn as sns\n",
    "from sklearn.metrics import accuracy_score, precision_score, recall_score, roc_auc_score\n",
    "from sklearn.metrics import f1_score, confusion_matrix, precision_recall_curve, roc_curve\n",
    "from sklearn.metrics import ConfusionMatrixDisplay\n",
    "from sklearn.metrics import classification_report, log_loss\n",
    "from sklearn import preprocessing\n",
    "import umap\n",
    "import umap.plot\n",
    "from sklearn.impute import KNNImputer\n",
    "from sklearn.preprocessing import RobustScaler\n",
    "from sklearn.model_selection import train_test_split\n",
    "\n",
    "import plotly.express as px\n",
    "from plotly.subplots import make_subplots\n",
    "import plotly.graph_objects as go\n",
    "\n",
    "import scipy.stats as stats\n",
    "\n",
    "import warnings\n",
    "warnings.filterwarnings('ignore')"
   ]
  },
  {
   "cell_type": "markdown",
   "id": "3a1ee179",
   "metadata": {
    "papermill": {
     "duration": 0.204384,
     "end_time": "2022-01-25T05:57:00.389174",
     "exception": false,
     "start_time": "2022-01-25T05:57:00.184790",
     "status": "completed"
    },
    "tags": []
   },
   "source": [
    "# Loading Dataset"
   ]
  },
  {
   "cell_type": "code",
   "execution_count": null,
   "metadata": {},
   "outputs": [],
   "source": [
    "import pathlib\n",
    "current_dir = pathlib.Path.cwd()\n",
    "parent_dir = current_dir.parent\n",
    "result_dir = pathlib.Path.joinpath(current_dir, 'result')\n",
    "pathlib.Path.mkdir(result_dir, mode=0o777, parents=True, exist_ok=True)"
   ]
  },
  {
   "cell_type": "code",
   "execution_count": null,
   "metadata": {},
   "outputs": [],
   "source": [
    "with open('./{}'.format(\"data_config.json\"), encoding='UTF8') as file:\n",
    "    cfg = json.load(file)\n",
    "\n",
    "drop_cols = cfg['drop_cols']\n",
    "selected_cols = cfg['selected_cols']\n",
    "target_col = cfg['target_col']\n",
    "\n",
    "icu_units = list(cfg['icu_units'].values())\n",
    "train_data_df = pd.DataFrame()\n",
    "for icu in icu_units[:-1]:\n",
    "    icu_df = pd.read_feather(parent_dir.joinpath('data', 'eicu', f'{icu}.feather'))\n",
    "    train_data_df = pd.concat([train_data_df, icu_df], axis=0).reset_index(drop=True)\n",
    "    \n",
    "valid_data_df = pd.read_feather(parent_dir.joinpath('data', 'eicu', f'{icu_units[-1]}.feather'))\n",
    "\n",
    "X_data, y_data = train_data_df[selected_cols], train_data_df['death']\n",
    "X_valid, y_valid = valid_data_df[selected_cols], valid_data_df['death']"
   ]
  },
  {
   "cell_type": "code",
   "execution_count": null,
   "metadata": {},
   "outputs": [],
   "source": [
    "train_data = train_data.dropna(axis=1)\n",
    "len(train_data.columns)"
   ]
  },
  {
   "cell_type": "code",
   "execution_count": null,
   "metadata": {},
   "outputs": [],
   "source": [
    "train_data_df = train_data_df[selected_cols + ['death']]\n",
    "valid_data_df = valid_data_df[selected_cols + ['death']]"
   ]
  },
  {
   "cell_type": "code",
   "execution_count": null,
   "metadata": {},
   "outputs": [],
   "source": [
    "X_data, y_data = train_data_df[selected_cols], train_data_df['death']\n",
    "X_valid, y_valid = valid_data_df[selected_cols], valid_data_df['death']"
   ]
  },
  {
   "cell_type": "code",
   "execution_count": null,
   "id": "78c7fa5d",
   "metadata": {
    "_kg_hide-output": true,
    "execution": {
     "iopub.execute_input": "2022-01-25T06:00:36.274462Z",
     "iopub.status.busy": "2022-01-25T06:00:36.273820Z",
     "iopub.status.idle": "2022-01-25T06:00:37.602086Z",
     "shell.execute_reply": "2022-01-25T06:00:37.602601Z",
     "shell.execute_reply.started": "2022-01-25T05:40:23.618879Z"
    },
    "papermill": {
     "duration": 1.620216,
     "end_time": "2022-01-25T06:00:37.602870",
     "exception": false,
     "start_time": "2022-01-25T06:00:35.982654",
     "status": "completed"
    },
    "tags": []
   },
   "outputs": [],
   "source": [
    "from fastai import *\n",
    "from fastai.tabular.all import * "
   ]
  },
  {
   "cell_type": "code",
   "execution_count": null,
   "id": "5f716fc6",
   "metadata": {
    "execution": {
     "iopub.execute_input": "2022-01-25T06:01:07.353822Z",
     "iopub.status.busy": "2022-01-25T06:01:07.353133Z",
     "iopub.status.idle": "2022-01-25T06:01:08.502645Z",
     "shell.execute_reply": "2022-01-25T06:01:08.502049Z",
     "shell.execute_reply.started": "2022-01-25T05:40:37.094322Z"
    },
    "papermill": {
     "duration": 1.451877,
     "end_time": "2022-01-25T06:01:08.502840",
     "exception": false,
     "start_time": "2022-01-25T06:01:07.050963",
     "status": "completed"
    },
    "tags": []
   },
   "outputs": [],
   "source": [
    "from pycaret.classification import *\n",
    "clf1 = setup(data = train_data_df, \n",
    "             target = 'death',\n",
    "             preprocess = False,\n",
    "             numeric_features = selected_cols,\n",
    "             silent=True)"
   ]
  },
  {
   "cell_type": "code",
   "execution_count": null,
   "metadata": {},
   "outputs": [],
   "source": [
    "mlp = create_model('mlp')"
   ]
  },
  {
   "cell_type": "code",
   "execution_count": null,
   "id": "7df9ed2c",
   "metadata": {
    "execution": {
     "iopub.execute_input": "2022-01-25T06:01:09.733407Z",
     "iopub.status.busy": "2022-01-25T06:01:09.730952Z",
     "iopub.status.idle": "2022-01-25T06:01:46.898218Z",
     "shell.execute_reply": "2022-01-25T06:01:46.897605Z",
     "shell.execute_reply.started": "2022-01-25T05:40:38.100509Z"
    },
    "papermill": {
     "duration": 37.479937,
     "end_time": "2022-01-25T06:01:46.898405",
     "exception": false,
     "start_time": "2022-01-25T06:01:09.418468",
     "status": "completed"
    },
    "tags": []
   },
   "outputs": [],
   "source": [
    "top5 = compare_models(sort='Accuracy',n_select = 5,\n",
    "                      exclude = ['knn', 'svm','ridge','nb','dummy','qda']#,'xgboost']\n",
    "                     )"
   ]
  },
  {
   "cell_type": "code",
   "execution_count": null,
   "metadata": {},
   "outputs": [],
   "source": [
    "save_model(mlp,'mlp_model_11Nov2020')"
   ]
  },
  {
   "cell_type": "code",
   "execution_count": null,
   "metadata": {},
   "outputs": [],
   "source": [
    "new_prediction = predict_model(mlp, data=valid_data_df)"
   ]
  },
  {
   "cell_type": "code",
   "execution_count": null,
   "metadata": {},
   "outputs": [],
   "source": [
    "new_prediction"
   ]
  },
  {
   "cell_type": "code",
   "execution_count": null,
   "metadata": {},
   "outputs": [],
   "source": [
    "evaluate_model(mlp)"
   ]
  },
  {
   "cell_type": "code",
   "execution_count": null,
   "metadata": {},
   "outputs": [],
   "source": [
    "from pycaret.utils import check_metric\n",
    "check_metric(new_prediction['death'], new_prediction['Label'], metric = 'MAE')"
   ]
  },
  {
   "cell_type": "code",
   "execution_count": null,
   "metadata": {},
   "outputs": [],
   "source": [
    "mlp.get_params()"
   ]
  },
  {
   "cell_type": "code",
   "execution_count": null,
   "metadata": {},
   "outputs": [],
   "source": [
    "print(mlp)"
   ]
  },
  {
   "cell_type": "markdown",
   "metadata": {},
   "source": []
  },
  {
   "cell_type": "code",
   "execution_count": null,
   "metadata": {},
   "outputs": [],
   "source": []
  }
 ],
 "metadata": {
  "kernelspec": {
   "display_name": "Python 3.7.13 ('.venv': venv)",
   "language": "python",
   "name": "python3"
  },
  "language_info": {
   "codemirror_mode": {
    "name": "ipython",
    "version": 3
   },
   "file_extension": ".py",
   "mimetype": "text/x-python",
   "name": "python",
   "nbconvert_exporter": "python",
   "pygments_lexer": "ipython3",
   "version": "3.7.13"
  },
  "orig_nbformat": 4,
  "vscode": {
   "interpreter": {
    "hash": "f2d1300f79759540ad142f9a171835945198c00723f89d67e361db2fe3de1e55"
   }
  }
 },
 "nbformat": 4,
 "nbformat_minor": 2
}
