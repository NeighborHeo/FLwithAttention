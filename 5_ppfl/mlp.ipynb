{
 "cells": [
  {
   "cell_type": "code",
   "execution_count": 5,
   "metadata": {},
   "outputs": [],
   "source": [
    "import argparse\n",
    "import json\n",
    "import os\n",
    "import threading\n",
    "import time\n",
    "from random import random\n",
    "import numpy as np\n",
    "import requests\n",
    "from sklearn import metrics\n",
    "from sklearn.metrics import confusion_matrix, accuracy_score, f1_score\n",
    "import numpy_encoder\n",
    "import yaml\n",
    "from sklearn.model_selection import train_test_split\n",
    "import pandas as pd\n",
    "import sys\n",
    "import pickle"
   ]
  },
  {
   "cell_type": "code",
   "execution_count": 1,
   "id": "45d86e5c",
   "metadata": {
    "_cell_guid": "b1076dfc-b9ad-4769-8c92-a6c4dae69d19",
    "_kg_hide-input": true,
    "_kg_hide-output": true,
    "_uuid": "8f2839f25d086af736a60e9eeb907d3b93b6e0e5",
    "execution": {
     "iopub.execute_input": "2022-01-25T05:55:41.219932Z",
     "iopub.status.busy": "2022-01-25T05:55:41.219210Z",
     "iopub.status.idle": "2022-01-25T05:55:41.227032Z",
     "shell.execute_reply": "2022-01-25T05:55:41.225933Z",
     "shell.execute_reply.started": "2022-01-25T05:36:24.926654Z"
    },
    "papermill": {
     "duration": 0.147786,
     "end_time": "2022-01-25T05:55:41.227285",
     "exception": false,
     "start_time": "2022-01-25T05:55:41.079499",
     "status": "completed"
    },
    "tags": []
   },
   "outputs": [],
   "source": [
    "import numpy as np # linear algebra\n",
    "import pandas as pd # data processing, CSV file I/O (e.g. pd.read_csv)\n",
    "import os\n",
    "\n",
    "# setup\n",
    "import pycaret\n",
    "import missingno"
   ]
  },
  {
   "cell_type": "code",
   "execution_count": 2,
   "id": "f40fe694",
   "metadata": {
    "execution": {
     "iopub.execute_input": "2022-01-25T05:56:27.613973Z",
     "iopub.status.busy": "2022-01-25T05:56:27.613233Z",
     "iopub.status.idle": "2022-01-25T05:56:59.973494Z",
     "shell.execute_reply": "2022-01-25T05:56:59.974665Z",
     "shell.execute_reply.started": "2022-01-25T05:37:06.441188Z"
    },
    "papermill": {
     "duration": 32.573773,
     "end_time": "2022-01-25T05:56:59.974930",
     "exception": false,
     "start_time": "2022-01-25T05:56:27.401157",
     "status": "completed"
    },
    "tags": []
   },
   "outputs": [],
   "source": [
    "import numpy as np\n",
    "import pandas as pd\n",
    "import matplotlib.pyplot as plt\n",
    "from matplotlib import rcParams\n",
    "import seaborn as sns\n",
    "from sklearn.metrics import accuracy_score, precision_score, recall_score, roc_auc_score\n",
    "from sklearn.metrics import f1_score, confusion_matrix, precision_recall_curve, roc_curve\n",
    "from sklearn.metrics import ConfusionMatrixDisplay\n",
    "from sklearn.metrics import classification_report, log_loss\n",
    "from sklearn import preprocessing\n",
    "import umap\n",
    "import umap.plot\n",
    "from sklearn.impute import KNNImputer\n",
    "from sklearn.preprocessing import RobustScaler\n",
    "from sklearn.model_selection import train_test_split\n",
    "\n",
    "import plotly.express as px\n",
    "from plotly.subplots import make_subplots\n",
    "import plotly.graph_objects as go\n",
    "\n",
    "import scipy.stats as stats\n",
    "\n",
    "import warnings\n",
    "warnings.filterwarnings('ignore')"
   ]
  },
  {
   "cell_type": "markdown",
   "id": "3a1ee179",
   "metadata": {
    "papermill": {
     "duration": 0.204384,
     "end_time": "2022-01-25T05:57:00.389174",
     "exception": false,
     "start_time": "2022-01-25T05:57:00.184790",
     "status": "completed"
    },
    "tags": []
   },
   "source": [
    "# Loading Dataset"
   ]
  },
  {
   "cell_type": "code",
   "execution_count": 3,
   "metadata": {},
   "outputs": [],
   "source": [
    "import pathlib\n",
    "current_dir = pathlib.Path.cwd()\n",
    "parent_dir = current_dir.parent\n",
    "result_dir = pathlib.Path.joinpath(current_dir, 'result')\n",
    "pathlib.Path.mkdir(result_dir, mode=0o777, parents=True, exist_ok=True)"
   ]
  },
  {
   "cell_type": "code",
   "execution_count": 6,
   "metadata": {},
   "outputs": [],
   "source": [
    "with open('./{}'.format(\"data_config.json\"), encoding='UTF8') as file:\n",
    "    cfg = json.load(file)\n",
    "\n",
    "drop_cols = cfg['drop_cols']\n",
    "selected_cols = cfg['selected_cols']\n",
    "target_col = cfg['target_col']\n",
    "\n",
    "icu_units = list(cfg['icu_units'].values())\n",
    "train_data_df = pd.DataFrame()\n",
    "for icu in icu_units[:-1]:\n",
    "    icu_df = pd.read_feather(parent_dir.joinpath('data', 'eicu', f'{icu}.feather'))\n",
    "    train_data_df = pd.concat([train_data_df, icu_df], axis=0).reset_index(drop=True)\n",
    "    \n",
    "valid_data_df = pd.read_feather(parent_dir.joinpath('data', 'eicu', f'{icu_units[-1]}.feather'))\n",
    "\n",
    "X_data, y_data = train_data_df[selected_cols], train_data_df['death']\n",
    "X_valid, y_valid = valid_data_df[selected_cols], valid_data_df['death']"
   ]
  },
  {
   "cell_type": "code",
   "execution_count": null,
   "metadata": {},
   "outputs": [],
   "source": [
    "train_data = train_data.dropna(axis=1)\n",
    "len(train_data.columns)"
   ]
  },
  {
   "cell_type": "code",
   "execution_count": 7,
   "metadata": {},
   "outputs": [],
   "source": [
    "train_data_df = train_data_df[selected_cols + ['death']]\n",
    "valid_data_df = valid_data_df[selected_cols + ['death']]"
   ]
  },
  {
   "cell_type": "code",
   "execution_count": 8,
   "metadata": {},
   "outputs": [],
   "source": [
    "X_data, y_data = train_data_df[selected_cols], train_data_df['death']\n",
    "X_valid, y_valid = valid_data_df[selected_cols], valid_data_df['death']"
   ]
  },
  {
   "cell_type": "code",
   "execution_count": 9,
   "id": "78c7fa5d",
   "metadata": {
    "_kg_hide-output": true,
    "execution": {
     "iopub.execute_input": "2022-01-25T06:00:36.274462Z",
     "iopub.status.busy": "2022-01-25T06:00:36.273820Z",
     "iopub.status.idle": "2022-01-25T06:00:37.602086Z",
     "shell.execute_reply": "2022-01-25T06:00:37.602601Z",
     "shell.execute_reply.started": "2022-01-25T05:40:23.618879Z"
    },
    "papermill": {
     "duration": 1.620216,
     "end_time": "2022-01-25T06:00:37.602870",
     "exception": false,
     "start_time": "2022-01-25T06:00:35.982654",
     "status": "completed"
    },
    "tags": []
   },
   "outputs": [],
   "source": [
    "from fastai import *\n",
    "from fastai.tabular.all import * "
   ]
  },
  {
   "cell_type": "code",
   "execution_count": 11,
   "id": "5f716fc6",
   "metadata": {
    "execution": {
     "iopub.execute_input": "2022-01-25T06:01:07.353822Z",
     "iopub.status.busy": "2022-01-25T06:01:07.353133Z",
     "iopub.status.idle": "2022-01-25T06:01:08.502645Z",
     "shell.execute_reply": "2022-01-25T06:01:08.502049Z",
     "shell.execute_reply.started": "2022-01-25T05:40:37.094322Z"
    },
    "papermill": {
     "duration": 1.451877,
     "end_time": "2022-01-25T06:01:08.502840",
     "exception": false,
     "start_time": "2022-01-25T06:01:07.050963",
     "status": "completed"
    },
    "tags": []
   },
   "outputs": [
    {
     "data": {
      "text/html": [
       "<style type=\"text/css\">\n",
       "</style>\n",
       "<table id=\"T_a3089_\">\n",
       "  <thead>\n",
       "    <tr>\n",
       "      <th class=\"blank level0\" >&nbsp;</th>\n",
       "      <th class=\"col_heading level0 col0\" >Description</th>\n",
       "      <th class=\"col_heading level0 col1\" >Value</th>\n",
       "    </tr>\n",
       "  </thead>\n",
       "  <tbody>\n",
       "    <tr>\n",
       "      <th id=\"T_a3089_level0_row0\" class=\"row_heading level0 row0\" >0</th>\n",
       "      <td id=\"T_a3089_row0_col0\" class=\"data row0 col0\" >session_id</td>\n",
       "      <td id=\"T_a3089_row0_col1\" class=\"data row0 col1\" >5375</td>\n",
       "    </tr>\n",
       "    <tr>\n",
       "      <th id=\"T_a3089_level0_row1\" class=\"row_heading level0 row1\" >1</th>\n",
       "      <td id=\"T_a3089_row1_col0\" class=\"data row1 col0\" >Target</td>\n",
       "      <td id=\"T_a3089_row1_col1\" class=\"data row1 col1\" >death</td>\n",
       "    </tr>\n",
       "    <tr>\n",
       "      <th id=\"T_a3089_level0_row2\" class=\"row_heading level0 row2\" >2</th>\n",
       "      <td id=\"T_a3089_row2_col0\" class=\"data row2 col0\" >Target Type</td>\n",
       "      <td id=\"T_a3089_row2_col1\" class=\"data row2 col1\" >Binary</td>\n",
       "    </tr>\n",
       "    <tr>\n",
       "      <th id=\"T_a3089_level0_row3\" class=\"row_heading level0 row3\" >3</th>\n",
       "      <td id=\"T_a3089_row3_col0\" class=\"data row3 col0\" >Label Encoded</td>\n",
       "      <td id=\"T_a3089_row3_col1\" class=\"data row3 col1\" >0.0: 0, 1.0: 1</td>\n",
       "    </tr>\n",
       "    <tr>\n",
       "      <th id=\"T_a3089_level0_row4\" class=\"row_heading level0 row4\" >4</th>\n",
       "      <td id=\"T_a3089_row4_col0\" class=\"data row4 col0\" >Original Data</td>\n",
       "      <td id=\"T_a3089_row4_col1\" class=\"data row4 col1\" >(153458, 27)</td>\n",
       "    </tr>\n",
       "    <tr>\n",
       "      <th id=\"T_a3089_level0_row5\" class=\"row_heading level0 row5\" >5</th>\n",
       "      <td id=\"T_a3089_row5_col0\" class=\"data row5 col0\" >Missing Values</td>\n",
       "      <td id=\"T_a3089_row5_col1\" class=\"data row5 col1\" >False</td>\n",
       "    </tr>\n",
       "    <tr>\n",
       "      <th id=\"T_a3089_level0_row6\" class=\"row_heading level0 row6\" >6</th>\n",
       "      <td id=\"T_a3089_row6_col0\" class=\"data row6 col0\" >Numeric Features</td>\n",
       "      <td id=\"T_a3089_row6_col1\" class=\"data row6 col1\" >26</td>\n",
       "    </tr>\n",
       "    <tr>\n",
       "      <th id=\"T_a3089_level0_row7\" class=\"row_heading level0 row7\" >7</th>\n",
       "      <td id=\"T_a3089_row7_col0\" class=\"data row7 col0\" >Categorical Features</td>\n",
       "      <td id=\"T_a3089_row7_col1\" class=\"data row7 col1\" >0</td>\n",
       "    </tr>\n",
       "    <tr>\n",
       "      <th id=\"T_a3089_level0_row8\" class=\"row_heading level0 row8\" >8</th>\n",
       "      <td id=\"T_a3089_row8_col0\" class=\"data row8 col0\" >Transformed Train Set</td>\n",
       "      <td id=\"T_a3089_row8_col1\" class=\"data row8 col1\" >(107420, 26)</td>\n",
       "    </tr>\n",
       "    <tr>\n",
       "      <th id=\"T_a3089_level0_row9\" class=\"row_heading level0 row9\" >9</th>\n",
       "      <td id=\"T_a3089_row9_col0\" class=\"data row9 col0\" >Transformed Test Set</td>\n",
       "      <td id=\"T_a3089_row9_col1\" class=\"data row9 col1\" >(46038, 26)</td>\n",
       "    </tr>\n",
       "    <tr>\n",
       "      <th id=\"T_a3089_level0_row10\" class=\"row_heading level0 row10\" >10</th>\n",
       "      <td id=\"T_a3089_row10_col0\" class=\"data row10 col0\" >Shuffle Train-Test</td>\n",
       "      <td id=\"T_a3089_row10_col1\" class=\"data row10 col1\" >True</td>\n",
       "    </tr>\n",
       "    <tr>\n",
       "      <th id=\"T_a3089_level0_row11\" class=\"row_heading level0 row11\" >11</th>\n",
       "      <td id=\"T_a3089_row11_col0\" class=\"data row11 col0\" >Stratify Train-Test</td>\n",
       "      <td id=\"T_a3089_row11_col1\" class=\"data row11 col1\" >False</td>\n",
       "    </tr>\n",
       "    <tr>\n",
       "      <th id=\"T_a3089_level0_row12\" class=\"row_heading level0 row12\" >12</th>\n",
       "      <td id=\"T_a3089_row12_col0\" class=\"data row12 col0\" >Fold Generator</td>\n",
       "      <td id=\"T_a3089_row12_col1\" class=\"data row12 col1\" >StratifiedKFold</td>\n",
       "    </tr>\n",
       "    <tr>\n",
       "      <th id=\"T_a3089_level0_row13\" class=\"row_heading level0 row13\" >13</th>\n",
       "      <td id=\"T_a3089_row13_col0\" class=\"data row13 col0\" >Fold Number</td>\n",
       "      <td id=\"T_a3089_row13_col1\" class=\"data row13 col1\" >10</td>\n",
       "    </tr>\n",
       "    <tr>\n",
       "      <th id=\"T_a3089_level0_row14\" class=\"row_heading level0 row14\" >14</th>\n",
       "      <td id=\"T_a3089_row14_col0\" class=\"data row14 col0\" >CPU Jobs</td>\n",
       "      <td id=\"T_a3089_row14_col1\" class=\"data row14 col1\" >-1</td>\n",
       "    </tr>\n",
       "    <tr>\n",
       "      <th id=\"T_a3089_level0_row15\" class=\"row_heading level0 row15\" >15</th>\n",
       "      <td id=\"T_a3089_row15_col0\" class=\"data row15 col0\" >Use GPU</td>\n",
       "      <td id=\"T_a3089_row15_col1\" class=\"data row15 col1\" >False</td>\n",
       "    </tr>\n",
       "    <tr>\n",
       "      <th id=\"T_a3089_level0_row16\" class=\"row_heading level0 row16\" >16</th>\n",
       "      <td id=\"T_a3089_row16_col0\" class=\"data row16 col0\" >Log Experiment</td>\n",
       "      <td id=\"T_a3089_row16_col1\" class=\"data row16 col1\" >False</td>\n",
       "    </tr>\n",
       "    <tr>\n",
       "      <th id=\"T_a3089_level0_row17\" class=\"row_heading level0 row17\" >17</th>\n",
       "      <td id=\"T_a3089_row17_col0\" class=\"data row17 col0\" >Experiment Name</td>\n",
       "      <td id=\"T_a3089_row17_col1\" class=\"data row17 col1\" >clf-default-name</td>\n",
       "    </tr>\n",
       "    <tr>\n",
       "      <th id=\"T_a3089_level0_row18\" class=\"row_heading level0 row18\" >18</th>\n",
       "      <td id=\"T_a3089_row18_col0\" class=\"data row18 col0\" >USI</td>\n",
       "      <td id=\"T_a3089_row18_col1\" class=\"data row18 col1\" >9404</td>\n",
       "    </tr>\n",
       "    <tr>\n",
       "      <th id=\"T_a3089_level0_row19\" class=\"row_heading level0 row19\" >19</th>\n",
       "      <td id=\"T_a3089_row19_col0\" class=\"data row19 col0\" >Fix Imbalance</td>\n",
       "      <td id=\"T_a3089_row19_col1\" class=\"data row19 col1\" >False</td>\n",
       "    </tr>\n",
       "    <tr>\n",
       "      <th id=\"T_a3089_level0_row20\" class=\"row_heading level0 row20\" >20</th>\n",
       "      <td id=\"T_a3089_row20_col0\" class=\"data row20 col0\" >Fix Imbalance Method</td>\n",
       "      <td id=\"T_a3089_row20_col1\" class=\"data row20 col1\" >SMOTE</td>\n",
       "    </tr>\n",
       "  </tbody>\n",
       "</table>\n"
      ],
      "text/plain": [
       "<pandas.io.formats.style.Styler at 0x7f4e61d876d0>"
      ]
     },
     "metadata": {},
     "output_type": "display_data"
    }
   ],
   "source": [
    "from pycaret.classification import *\n",
    "clf1 = setup(data = train_data_df, \n",
    "             target = 'death',\n",
    "             preprocess = False,\n",
    "             numeric_features = selected_cols,\n",
    "             silent=True)"
   ]
  },
  {
   "cell_type": "code",
   "execution_count": 12,
   "metadata": {},
   "outputs": [
    {
     "data": {
      "text/html": [
       "<style type=\"text/css\">\n",
       "#T_71df7_row10_col0, #T_71df7_row10_col1, #T_71df7_row10_col2, #T_71df7_row10_col3, #T_71df7_row10_col4, #T_71df7_row10_col5, #T_71df7_row10_col6 {\n",
       "  background: yellow;\n",
       "}\n",
       "</style>\n",
       "<table id=\"T_71df7_\">\n",
       "  <thead>\n",
       "    <tr>\n",
       "      <th class=\"blank level0\" >&nbsp;</th>\n",
       "      <th class=\"col_heading level0 col0\" >Accuracy</th>\n",
       "      <th class=\"col_heading level0 col1\" >AUC</th>\n",
       "      <th class=\"col_heading level0 col2\" >Recall</th>\n",
       "      <th class=\"col_heading level0 col3\" >Prec.</th>\n",
       "      <th class=\"col_heading level0 col4\" >F1</th>\n",
       "      <th class=\"col_heading level0 col5\" >Kappa</th>\n",
       "      <th class=\"col_heading level0 col6\" >MCC</th>\n",
       "    </tr>\n",
       "    <tr>\n",
       "      <th class=\"index_name level0\" >Fold</th>\n",
       "      <th class=\"blank col0\" >&nbsp;</th>\n",
       "      <th class=\"blank col1\" >&nbsp;</th>\n",
       "      <th class=\"blank col2\" >&nbsp;</th>\n",
       "      <th class=\"blank col3\" >&nbsp;</th>\n",
       "      <th class=\"blank col4\" >&nbsp;</th>\n",
       "      <th class=\"blank col5\" >&nbsp;</th>\n",
       "      <th class=\"blank col6\" >&nbsp;</th>\n",
       "    </tr>\n",
       "  </thead>\n",
       "  <tbody>\n",
       "    <tr>\n",
       "      <th id=\"T_71df7_level0_row0\" class=\"row_heading level0 row0\" >0</th>\n",
       "      <td id=\"T_71df7_row0_col0\" class=\"data row0 col0\" >0.9770</td>\n",
       "      <td id=\"T_71df7_row0_col1\" class=\"data row0 col1\" >0.9919</td>\n",
       "      <td id=\"T_71df7_row0_col2\" class=\"data row0 col2\" >0.8770</td>\n",
       "      <td id=\"T_71df7_row0_col3\" class=\"data row0 col3\" >0.8471</td>\n",
       "      <td id=\"T_71df7_row0_col4\" class=\"data row0 col4\" >0.8618</td>\n",
       "      <td id=\"T_71df7_row0_col5\" class=\"data row0 col5\" >0.8492</td>\n",
       "      <td id=\"T_71df7_row0_col6\" class=\"data row0 col6\" >0.8494</td>\n",
       "    </tr>\n",
       "    <tr>\n",
       "      <th id=\"T_71df7_level0_row1\" class=\"row_heading level0 row1\" >1</th>\n",
       "      <td id=\"T_71df7_row1_col0\" class=\"data row1 col0\" >0.9779</td>\n",
       "      <td id=\"T_71df7_row1_col1\" class=\"data row1 col1\" >0.9919</td>\n",
       "      <td id=\"T_71df7_row1_col2\" class=\"data row1 col2\" >0.7995</td>\n",
       "      <td id=\"T_71df7_row1_col3\" class=\"data row1 col3\" >0.9201</td>\n",
       "      <td id=\"T_71df7_row1_col4\" class=\"data row1 col4\" >0.8556</td>\n",
       "      <td id=\"T_71df7_row1_col5\" class=\"data row1 col5\" >0.8437</td>\n",
       "      <td id=\"T_71df7_row1_col6\" class=\"data row1 col6\" >0.8461</td>\n",
       "    </tr>\n",
       "    <tr>\n",
       "      <th id=\"T_71df7_level0_row2\" class=\"row_heading level0 row2\" >2</th>\n",
       "      <td id=\"T_71df7_row2_col0\" class=\"data row2 col0\" >0.9774</td>\n",
       "      <td id=\"T_71df7_row2_col1\" class=\"data row2 col1\" >0.9915</td>\n",
       "      <td id=\"T_71df7_row2_col2\" class=\"data row2 col2\" >0.8428</td>\n",
       "      <td id=\"T_71df7_row2_col3\" class=\"data row2 col3\" >0.8757</td>\n",
       "      <td id=\"T_71df7_row2_col4\" class=\"data row2 col4\" >0.8590</td>\n",
       "      <td id=\"T_71df7_row2_col5\" class=\"data row2 col5\" >0.8467</td>\n",
       "      <td id=\"T_71df7_row2_col6\" class=\"data row2 col6\" >0.8469</td>\n",
       "    </tr>\n",
       "    <tr>\n",
       "      <th id=\"T_71df7_level0_row3\" class=\"row_heading level0 row3\" >3</th>\n",
       "      <td id=\"T_71df7_row3_col0\" class=\"data row3 col0\" >0.9771</td>\n",
       "      <td id=\"T_71df7_row3_col1\" class=\"data row3 col1\" >0.9919</td>\n",
       "      <td id=\"T_71df7_row3_col2\" class=\"data row3 col2\" >0.8554</td>\n",
       "      <td id=\"T_71df7_row3_col3\" class=\"data row3 col3\" >0.8632</td>\n",
       "      <td id=\"T_71df7_row3_col4\" class=\"data row3 col4\" >0.8593</td>\n",
       "      <td id=\"T_71df7_row3_col5\" class=\"data row3 col5\" >0.8468</td>\n",
       "      <td id=\"T_71df7_row3_col6\" class=\"data row3 col6\" >0.8468</td>\n",
       "    </tr>\n",
       "    <tr>\n",
       "      <th id=\"T_71df7_level0_row4\" class=\"row_heading level0 row4\" >4</th>\n",
       "      <td id=\"T_71df7_row4_col0\" class=\"data row4 col0\" >0.9805</td>\n",
       "      <td id=\"T_71df7_row4_col1\" class=\"data row4 col1\" >0.9910</td>\n",
       "      <td id=\"T_71df7_row4_col2\" class=\"data row4 col2\" >0.8519</td>\n",
       "      <td id=\"T_71df7_row4_col3\" class=\"data row4 col3\" >0.9034</td>\n",
       "      <td id=\"T_71df7_row4_col4\" class=\"data row4 col4\" >0.8769</td>\n",
       "      <td id=\"T_71df7_row4_col5\" class=\"data row4 col5\" >0.8663</td>\n",
       "      <td id=\"T_71df7_row4_col6\" class=\"data row4 col6\" >0.8667</td>\n",
       "    </tr>\n",
       "    <tr>\n",
       "      <th id=\"T_71df7_level0_row5\" class=\"row_heading level0 row5\" >5</th>\n",
       "      <td id=\"T_71df7_row5_col0\" class=\"data row5 col0\" >0.9763</td>\n",
       "      <td id=\"T_71df7_row5_col1\" class=\"data row5 col1\" >0.9916</td>\n",
       "      <td id=\"T_71df7_row5_col2\" class=\"data row5 col2\" >0.8440</td>\n",
       "      <td id=\"T_71df7_row5_col3\" class=\"data row5 col3\" >0.8626</td>\n",
       "      <td id=\"T_71df7_row5_col4\" class=\"data row5 col4\" >0.8532</td>\n",
       "      <td id=\"T_71df7_row5_col5\" class=\"data row5 col5\" >0.8403</td>\n",
       "      <td id=\"T_71df7_row5_col6\" class=\"data row5 col6\" >0.8403</td>\n",
       "    </tr>\n",
       "    <tr>\n",
       "      <th id=\"T_71df7_level0_row6\" class=\"row_heading level0 row6\" >6</th>\n",
       "      <td id=\"T_71df7_row6_col0\" class=\"data row6 col0\" >0.9769</td>\n",
       "      <td id=\"T_71df7_row6_col1\" class=\"data row6 col1\" >0.9911</td>\n",
       "      <td id=\"T_71df7_row6_col2\" class=\"data row6 col2\" >0.7952</td>\n",
       "      <td id=\"T_71df7_row6_col3\" class=\"data row6 col3\" >0.9113</td>\n",
       "      <td id=\"T_71df7_row6_col4\" class=\"data row6 col4\" >0.8493</td>\n",
       "      <td id=\"T_71df7_row6_col5\" class=\"data row6 col5\" >0.8369</td>\n",
       "      <td id=\"T_71df7_row6_col6\" class=\"data row6 col6\" >0.8392</td>\n",
       "    </tr>\n",
       "    <tr>\n",
       "      <th id=\"T_71df7_level0_row7\" class=\"row_heading level0 row7\" >7</th>\n",
       "      <td id=\"T_71df7_row7_col0\" class=\"data row7 col0\" >0.9799</td>\n",
       "      <td id=\"T_71df7_row7_col1\" class=\"data row7 col1\" >0.9912</td>\n",
       "      <td id=\"T_71df7_row7_col2\" class=\"data row7 col2\" >0.8214</td>\n",
       "      <td id=\"T_71df7_row7_col3\" class=\"data row7 col3\" >0.9245</td>\n",
       "      <td id=\"T_71df7_row7_col4\" class=\"data row7 col4\" >0.8699</td>\n",
       "      <td id=\"T_71df7_row7_col5\" class=\"data row7 col5\" >0.8590</td>\n",
       "      <td id=\"T_71df7_row7_col6\" class=\"data row7 col6\" >0.8608</td>\n",
       "    </tr>\n",
       "    <tr>\n",
       "      <th id=\"T_71df7_level0_row8\" class=\"row_heading level0 row8\" >8</th>\n",
       "      <td id=\"T_71df7_row8_col0\" class=\"data row8 col0\" >0.9770</td>\n",
       "      <td id=\"T_71df7_row8_col1\" class=\"data row8 col1\" >0.9928</td>\n",
       "      <td id=\"T_71df7_row8_col2\" class=\"data row8 col2\" >0.8043</td>\n",
       "      <td id=\"T_71df7_row8_col3\" class=\"data row8 col3\" >0.9041</td>\n",
       "      <td id=\"T_71df7_row8_col4\" class=\"data row8 col4\" >0.8513</td>\n",
       "      <td id=\"T_71df7_row8_col5\" class=\"data row8 col5\" >0.8389</td>\n",
       "      <td id=\"T_71df7_row8_col6\" class=\"data row8 col6\" >0.8406</td>\n",
       "    </tr>\n",
       "    <tr>\n",
       "      <th id=\"T_71df7_level0_row9\" class=\"row_heading level0 row9\" >9</th>\n",
       "      <td id=\"T_71df7_row9_col0\" class=\"data row9 col0\" >0.9800</td>\n",
       "      <td id=\"T_71df7_row9_col1\" class=\"data row9 col1\" >0.9923</td>\n",
       "      <td id=\"T_71df7_row9_col2\" class=\"data row9 col2\" >0.8020</td>\n",
       "      <td id=\"T_71df7_row9_col3\" class=\"data row9 col3\" >0.9450</td>\n",
       "      <td id=\"T_71df7_row9_col4\" class=\"data row9 col4\" >0.8677</td>\n",
       "      <td id=\"T_71df7_row9_col5\" class=\"data row9 col5\" >0.8569</td>\n",
       "      <td id=\"T_71df7_row9_col6\" class=\"data row9 col6\" >0.8603</td>\n",
       "    </tr>\n",
       "    <tr>\n",
       "      <th id=\"T_71df7_level0_row10\" class=\"row_heading level0 row10\" >Mean</th>\n",
       "      <td id=\"T_71df7_row10_col0\" class=\"data row10 col0\" >0.9780</td>\n",
       "      <td id=\"T_71df7_row10_col1\" class=\"data row10 col1\" >0.9917</td>\n",
       "      <td id=\"T_71df7_row10_col2\" class=\"data row10 col2\" >0.8294</td>\n",
       "      <td id=\"T_71df7_row10_col3\" class=\"data row10 col3\" >0.8957</td>\n",
       "      <td id=\"T_71df7_row10_col4\" class=\"data row10 col4\" >0.8604</td>\n",
       "      <td id=\"T_71df7_row10_col5\" class=\"data row10 col5\" >0.8485</td>\n",
       "      <td id=\"T_71df7_row10_col6\" class=\"data row10 col6\" >0.8497</td>\n",
       "    </tr>\n",
       "    <tr>\n",
       "      <th id=\"T_71df7_level0_row11\" class=\"row_heading level0 row11\" >Std</th>\n",
       "      <td id=\"T_71df7_row11_col0\" class=\"data row11 col0\" >0.0014</td>\n",
       "      <td id=\"T_71df7_row11_col1\" class=\"data row11 col1\" >0.0005</td>\n",
       "      <td id=\"T_71df7_row11_col2\" class=\"data row11 col2\" >0.0271</td>\n",
       "      <td id=\"T_71df7_row11_col3\" class=\"data row11 col3\" >0.0302</td>\n",
       "      <td id=\"T_71df7_row11_col4\" class=\"data row11 col4\" >0.0084</td>\n",
       "      <td id=\"T_71df7_row11_col5\" class=\"data row11 col5\" >0.0091</td>\n",
       "      <td id=\"T_71df7_row11_col6\" class=\"data row11 col6\" >0.0091</td>\n",
       "    </tr>\n",
       "  </tbody>\n",
       "</table>\n"
      ],
      "text/plain": [
       "<pandas.io.formats.style.Styler at 0x7f510f8681d0>"
      ]
     },
     "metadata": {},
     "output_type": "display_data"
    }
   ],
   "source": [
    "mlp = create_model('mlp')"
   ]
  },
  {
   "cell_type": "code",
   "execution_count": null,
   "id": "7df9ed2c",
   "metadata": {
    "execution": {
     "iopub.execute_input": "2022-01-25T06:01:09.733407Z",
     "iopub.status.busy": "2022-01-25T06:01:09.730952Z",
     "iopub.status.idle": "2022-01-25T06:01:46.898218Z",
     "shell.execute_reply": "2022-01-25T06:01:46.897605Z",
     "shell.execute_reply.started": "2022-01-25T05:40:38.100509Z"
    },
    "papermill": {
     "duration": 37.479937,
     "end_time": "2022-01-25T06:01:46.898405",
     "exception": false,
     "start_time": "2022-01-25T06:01:09.418468",
     "status": "completed"
    },
    "tags": []
   },
   "outputs": [],
   "source": [
    "top5 = compare_models(sort='Accuracy',n_select = 5,\n",
    "                      exclude = ['knn', 'svm','ridge','nb','dummy','qda']#,'xgboost']\n",
    "                     )"
   ]
  },
  {
   "cell_type": "code",
   "execution_count": 13,
   "metadata": {},
   "outputs": [
    {
     "name": "stdout",
     "output_type": "stream",
     "text": [
      "Transformation Pipeline and Model Successfully Saved\n"
     ]
    },
    {
     "data": {
      "text/plain": [
       "(Pipeline(memory=None,\n",
       "          steps=[('dtypes',\n",
       "                  DataTypes_Auto_infer(categorical_features=[],\n",
       "                                       display_types=False, features_todrop=[],\n",
       "                                       id_columns=[],\n",
       "                                       ml_usecase='classification',\n",
       "                                       numerical_features=['age', 'albumin',\n",
       "                                                           'bicarbonate',\n",
       "                                                           'bilirubin', 'bun',\n",
       "                                                           'creatinine', 'fio2',\n",
       "                                                           'gcs', 'glucose',\n",
       "                                                           'hct', 'heartrate',\n",
       "                                                           'hospitaladmitoffset',\n",
       "                                                           'intubated', 'ph',\n",
       "                                                           'platelets x 1000',\n",
       "                                                           'potassi...\n",
       "                                batch_size='auto', beta_1=0.9, beta_2=0.999,\n",
       "                                early_stopping=False, epsilon=1e-08,\n",
       "                                hidden_layer_sizes=(100,),\n",
       "                                learning_rate='constant',\n",
       "                                learning_rate_init=0.001, max_fun=15000,\n",
       "                                max_iter=500, momentum=0.9, n_iter_no_change=10,\n",
       "                                nesterovs_momentum=True, power_t=0.5,\n",
       "                                random_state=5375, shuffle=True, solver='adam',\n",
       "                                tol=0.0001, validation_fraction=0.1,\n",
       "                                verbose=False, warm_start=False)]],\n",
       "          verbose=False),\n",
       " 'mlp_model_11Nov2020.pkl')"
      ]
     },
     "execution_count": 13,
     "metadata": {},
     "output_type": "execute_result"
    }
   ],
   "source": [
    "save_model(mlp,'mlp_model_11Nov2020')"
   ]
  },
  {
   "cell_type": "code",
   "execution_count": null,
   "metadata": {},
   "outputs": [],
   "source": [
    "new_prediction = predict_model(mlp, data=valid_data_df)"
   ]
  },
  {
   "cell_type": "code",
   "execution_count": null,
   "metadata": {},
   "outputs": [],
   "source": [
    "new_prediction"
   ]
  },
  {
   "cell_type": "code",
   "execution_count": 14,
   "metadata": {},
   "outputs": [
    {
     "data": {
      "application/vnd.jupyter.widget-view+json": {
       "model_id": "d3ad55905e774f51a7c81d445eaeb39b",
       "version_major": 2,
       "version_minor": 0
      },
      "text/plain": [
       "interactive(children=(ToggleButtons(description='Plot Type:', icons=('',), options=(('Hyperparameters', 'param…"
      ]
     },
     "metadata": {},
     "output_type": "display_data"
    }
   ],
   "source": [
    "evaluate_model(mlp)"
   ]
  },
  {
   "cell_type": "code",
   "execution_count": null,
   "metadata": {},
   "outputs": [],
   "source": [
    "from pycaret.utils import check_metric\n",
    "check_metric(new_prediction['death'], new_prediction['Label'], metric = 'MAE')"
   ]
  },
  {
   "cell_type": "code",
   "execution_count": null,
   "metadata": {},
   "outputs": [],
   "source": [
    "mlp.get_params()"
   ]
  },
  {
   "cell_type": "code",
   "execution_count": null,
   "metadata": {},
   "outputs": [],
   "source": [
    "print(mlp)"
   ]
  },
  {
   "cell_type": "markdown",
   "metadata": {},
   "source": []
  },
  {
   "cell_type": "code",
   "execution_count": null,
   "metadata": {},
   "outputs": [],
   "source": []
  }
 ],
 "metadata": {
  "kernelspec": {
   "display_name": "Python 3.7.13 ('.kaggle_venv': venv)",
   "language": "python",
   "name": "python3"
  },
  "language_info": {
   "codemirror_mode": {
    "name": "ipython",
    "version": 3
   },
   "file_extension": ".py",
   "mimetype": "text/x-python",
   "name": "python",
   "nbconvert_exporter": "python",
   "pygments_lexer": "ipython3",
   "version": "3.7.13"
  },
  "orig_nbformat": 4,
  "vscode": {
   "interpreter": {
    "hash": "7988de4e3630910b465c115ec25a05344db8c05d4b798743a2ec47a6fd72cb93"
   }
  }
 },
 "nbformat": 4,
 "nbformat_minor": 2
}
