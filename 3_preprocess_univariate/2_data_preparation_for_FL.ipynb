{
 "cells": [
  {
   "cell_type": "code",
   "execution_count": null,
   "metadata": {},
   "outputs": [],
   "source": [
    "import pandas as pd\n",
    "from pathlib import Path\n",
    "import pickle"
   ]
  },
  {
   "cell_type": "code",
   "execution_count": null,
   "metadata": {},
   "outputs": [],
   "source": [
    "PROJECT_DIR =  Path.cwd().parent\n",
    "DATA_DIR = PROJECT_DIR.joinpath('data')"
   ]
  },
  {
   "cell_type": "code",
   "execution_count": null,
   "metadata": {},
   "outputs": [],
   "source": [
    "HICU = pd.read_feather(DATA_DIR.joinpath('processed','HICU.feather'))\n",
    "SICU = pd.read_feather(DATA_DIR.joinpath('processed','SICU.feather'))\n",
    "MICU = pd.read_feather(DATA_DIR.joinpath('processed','MICU.feather'))\n",
    "NSICU = pd.read_feather(DATA_DIR.joinpath('processed','NSICU.feather'))"
   ]
  },
  {
   "cell_type": "code",
   "execution_count": null,
   "metadata": {},
   "outputs": [],
   "source": [
    "from sklearn.preprocessing import MinMaxScaler"
   ]
  },
  {
   "cell_type": "code",
   "execution_count": null,
   "metadata": {},
   "outputs": [],
   "source": [
    "scaler = MinMaxScaler()"
   ]
  },
  {
   "cell_type": "code",
   "execution_count": null,
   "metadata": {},
   "outputs": [],
   "source": [
    "output = scaler.fit_transform(HICU[HICU.columns[1:]])\n",
    "\n",
    "HICU[HICU.columns[1:]] = output\n",
    "HICU.head()"
   ]
  },
  {
   "cell_type": "code",
   "execution_count": null,
   "metadata": {},
   "outputs": [],
   "source": [
    "HICU"
   ]
  },
  {
   "cell_type": "code",
   "execution_count": null,
   "metadata": {},
   "outputs": [],
   "source": [
    "output = scaler.fit_transform(MICU[MICU.columns[1:]])\n",
    "\n",
    "MICU[MICU.columns[1:]] = output\n",
    "MICU.head()"
   ]
  },
  {
   "cell_type": "code",
   "execution_count": null,
   "metadata": {},
   "outputs": [],
   "source": [
    "MICU"
   ]
  },
  {
   "cell_type": "code",
   "execution_count": null,
   "metadata": {},
   "outputs": [],
   "source": [
    "output = scaler.fit_transform(SICU[SICU.columns[1:]])\n",
    "\n",
    "SICU[SICU.columns[1:]] = output\n",
    "SICU.head()"
   ]
  },
  {
   "cell_type": "code",
   "execution_count": null,
   "metadata": {},
   "outputs": [],
   "source": [
    "output = scaler.fit_transform(NSICU[NSICU.columns[1:]])\n",
    "\n",
    "NSICU[NSICU.columns[1:]] = output\n",
    "NSICU.head()"
   ]
  },
  {
   "cell_type": "code",
   "execution_count": null,
   "metadata": {},
   "outputs": [],
   "source": [
    "DATA_DIR.joinpath('processed','HICU.csv)"
   ]
  },
  {
   "cell_type": "code",
   "execution_count": null,
   "metadata": {},
   "outputs": [],
   "source": [
    "SICU"
   ]
  },
  {
   "cell_type": "code",
   "execution_count": null,
   "metadata": {},
   "outputs": [],
   "source": [
    "DATA_DIR.joinpath('processed','HICU.csv')"
   ]
  },
  {
   "cell_type": "code",
   "execution_count": null,
   "metadata": {},
   "outputs": [],
   "source": [
    "HICU.to_csv(DATA_DIR.joinpath('processed','HICU.csv'), index=False)\n",
    "SICU.to_csv(DATA_DIR.joinpath('processed','SICU.csv'), index=False)\n",
    "MICU.to_csv(DATA_DIR.joinpath('processed','MICU.csv'), index=False)\n",
    "NSICU.to_csv(DATA_DIR.joinpath('processed','NSICU.csv'), index=False)"
   ]
  },
  {
   "cell_type": "code",
   "execution_count": null,
   "metadata": {},
   "outputs": [],
   "source": [
    "HICU.to_csv(PROJECT_DIR.joinpath('4_ppfl_simulation/hicu/data/HICU.csv'), index=False)\n",
    "SICU.to_csv(PROJECT_DIR.joinpath('4_ppfl_simulation/sicu/data/SICU.csv'), index=False)\n",
    "MICU.to_csv(PROJECT_DIR.joinpath('4_ppfl_simulation/micu/data/MICU.csv'), index=False)\n",
    "NSICU.to_csv(PROJECT_DIR.joinpath('4_ppfl_simulation/NSicu/data/NSICU.csv'), index=False)"
   ]
  },
  {
   "cell_type": "markdown",
   "metadata": {},
   "source": [
    "load valid data"
   ]
  },
  {
   "cell_type": "code",
   "execution_count": null,
   "metadata": {},
   "outputs": [],
   "source": [
    "with open(DATA_DIR.joinpath('processed','micu_selected.pkl'),'rb') as f:\n",
    "   micu_selected = pickle.load(f)\n",
    "with open(DATA_DIR.joinpath('processed','sicu_selected.pkl'), 'rb') as f:\n",
    "   sicu_selected = pickle.load(f)\n",
    "with open(DATA_DIR.joinpath('processed','nsicu_selected.pkl'), 'rb') as f:\n",
    "   nsicu_selected = pickle.load(f)"
   ]
  },
  {
   "cell_type": "code",
   "execution_count": null,
   "metadata": {},
   "outputs": [],
   "source": [
    "common_features = set(MICU.columns) & set(SICU.columns) & set(HICU.columns) & set(MICU.columns)\n",
    "id_and_outcome = set(['연구등록번호','death'])\n",
    "\n",
    "micu_specific = set(MICU.columns) - common_features\n",
    "sicu_specific = set(SICU.columns) - common_features\n",
    "hicu_specific = set(HICU.columns) - common_features\n",
    "\n",
    "common_features = common_features - id_and_outcome\n",
    "\n",
    "feature_book = {'common_features':list(common_features), 'id_and_outcome':list(id_and_outcome),\n",
    "                'hicu_specific':list(hicu_specific), 'sicu_specific':list(sicu_selected), 'micu_specific':list(micu_selected), 'nsicu_specific':list(nsicu_selected)}"
   ]
  },
  {
   "cell_type": "code",
   "execution_count": null,
   "metadata": {},
   "outputs": [],
   "source": [
    "import yaml\n",
    "\n",
    "with open(DATA_DIR.joinpath('processed','feature_book.yaml'),'w') as f:\n",
    "    yaml.dump(feature_book, f, allow_unicode=True)"
   ]
  },
  {
   "cell_type": "code",
   "execution_count": null,
   "metadata": {},
   "outputs": [],
   "source": []
  }
 ],
 "metadata": {
  "kernelspec": {
   "display_name": "Python 3.7.13 ('.venv': venv)",
   "language": "python",
   "name": "python3"
  },
  "language_info": {
   "codemirror_mode": {
    "name": "ipython",
    "version": 3
   },
   "file_extension": ".py",
   "mimetype": "text/x-python",
   "name": "python",
   "nbconvert_exporter": "python",
   "pygments_lexer": "ipython3",
   "version": "3.7.13"
  },
  "orig_nbformat": 4,
  "vscode": {
   "interpreter": {
    "hash": "f2d1300f79759540ad142f9a171835945198c00723f89d67e361db2fe3de1e55"
   }
  }
 },
 "nbformat": 4,
 "nbformat_minor": 2
}
